{
 "cells": [
  {
   "cell_type": "code",
   "execution_count": 2,
   "metadata": {},
   "outputs": [],
   "source": [
    "# Mi Proyecto Final en Ciencia de Datos\n"
   ]
  },
  {
   "cell_type": "markdown",
   "metadata": {},
   "source": [
    "## Introducción\n",
    "Este cuaderno presenta un proyecto final sobre ciencia de datos, utilizando diversas herramientas y bibliotecas.\n"
   ]
  },
  {
   "cell_type": "markdown",
   "metadata": {},
   "source": [
    "## Lenguajes de Ciencia de Datos\n",
    "- Python\n",
    "- R\n",
    "- SQL\n",
    "- Julia\n"
   ]
  },
  {
   "cell_type": "markdown",
   "metadata": {},
   "source": [
    "## Bibliotecas de Ciencia de Datos\n",
    "- NumPy\n",
    "- Pandas\n",
    "- Matplotlib\n",
    "- Scikit-learn\n"
   ]
  },
  {
   "cell_type": "markdown",
   "metadata": {},
   "source": [
    "## Herramientas de Ciencia de Datos\n",
    "| Herramienta   | Uso                      |\n",
    "|---------------|-------------------------|\n",
    "| Jupyter       | Creación de cuadernos   |\n",
    "| GitHub        | Control de versiones     |\n",
    "| VS Code       | Edición de código       |\n",
    "| Tableau       | Visualización de datos   |\n"
   ]
  },
  {
   "cell_type": "markdown",
   "metadata": {},
   "source": [
    "## Ejemplos de Expresiones Aritméticas\n",
    "- Suma: `2 + 2`\n",
    "- Resta: `5 - 3`\n",
    "- Multiplicación: `4 * 3`\n",
    "- División: `10 / 2`\n"
   ]
  },
  {
   "cell_type": "code",
   "execution_count": 3,
   "metadata": {},
   "outputs": [
    {
     "data": {
      "text/plain": [
       "55"
      ]
     },
     "execution_count": 3,
     "metadata": {},
     "output_type": "execute_result"
    }
   ],
   "source": [
    "# Multiplicar y sumar números\n",
    "a = 5\n",
    "b = 10\n",
    "resultado = a * b + a\n",
    "resultado\n"
   ]
  },
  {
   "cell_type": "code",
   "execution_count": 4,
   "metadata": {},
   "outputs": [
    {
     "data": {
      "text/plain": [
       "2.0"
      ]
     },
     "execution_count": 4,
     "metadata": {},
     "output_type": "execute_result"
    }
   ],
   "source": [
    "# Convertir minutos en horas\n",
    "def convertir_minutos_a_horas(minutos):\n",
    "    return minutos / 60\n",
    "\n",
    "convertir_minutos_a_horas(120)  # Ejemplo: 120 minutos\n"
   ]
  },
  {
   "cell_type": "code",
   "execution_count": 5,
   "metadata": {},
   "outputs": [
    {
     "data": {
      "text/plain": [
       "['Aprender sobre ciencia de datos', 'Usar Jupyter', 'Crear visualizaciones']"
      ]
     },
     "execution_count": 5,
     "metadata": {},
     "output_type": "execute_result"
    }
   ],
   "source": [
    "# Listar objetivos\n",
    "objetivos = [\"Aprender sobre ciencia de datos\", \"Usar Jupyter\", \"Crear visualizaciones\"]\n",
    "objetivos\n"
   ]
  },
  {
   "cell_type": "markdown",
   "metadata": {},
   "source": [
    "## Autor\n",
    "Nombre: [Amancay]\n"
   ]
  }
 ],
 "metadata": {
  "kernelspec": {
   "display_name": "Python 3",
   "language": "python",
   "name": "python3"
  },
  "language_info": {
   "codemirror_mode": {
    "name": "ipython",
    "version": 3
   },
   "file_extension": ".py",
   "mimetype": "text/x-python",
   "name": "python",
   "nbconvert_exporter": "python",
   "pygments_lexer": "ipython3",
   "version": "3.9.6"
  }
 },
 "nbformat": 4,
 "nbformat_minor": 2
}
